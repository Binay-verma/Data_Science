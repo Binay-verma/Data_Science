{
 "cells": [
  {
   "cell_type": "code",
   "execution_count": 18,
   "id": "aa5bcdfa-a17a-43be-b6c4-b5b3bb576ec3",
   "metadata": {},
   "outputs": [
    {
     "name": "stdout",
     "output_type": "stream",
     "text": [
      "All the weather data saved to 'weather_data.csv'\n",
      "   Location         timestamp  Temperature  Humidity\n",
      "0  Majestic  2025-07-21T00:00         20.9        94\n",
      "1  Majestic  2025-07-21T01:00         20.8        94\n",
      "2  Majestic  2025-07-21T02:00         20.6        93\n",
      "3  Majestic  2025-07-21T03:00         20.4        93\n",
      "4  Majestic  2025-07-21T04:00         20.3        93\n"
     ]
    }
   ],
   "source": [
    "import requests\n",
    "import csv\n",
    "import pandas as pd\n",
    "from datetime import datetime\n",
    "\n",
    "locations=[\n",
    "    {\"Name\":\"Majestic\",\"lat\":12.977439,\"lon\":77.570839},\n",
    "    {\"Name\":\"Indiranagar\",\"lat\":12.971891,\"lon\":77.641151},\n",
    "    {\"Name\":\"MG Road\",\"lat\":12.973801,\"lon\":77.611885},\n",
    "    {\"Name\":\"Church Street\",\"lat\":12.975001,\"lon\":12.975001},\n",
    "]\n",
    "def weather_data():\n",
    "    \n",
    "    all_weather_data=[]\n",
    "    \n",
    "    for location in locations:\n",
    "    \n",
    "        lat = location[\"lat\"]\n",
    "        lon = location[\"lon\"]\n",
    "        name = location[\"Name\"]\n",
    "    \n",
    "        params = {\n",
    "            \"latitude\": location[\"lat\"],\n",
    "            \"longitude\": location[\"lon\"],\n",
    "            \"hourly\": [\"temperature_2m\", \"relative_humidity_2m\"],\n",
    "            \"timezone\": \"Asia/Kolkata\",\n",
    "            \"past_days\": 21\n",
    "        }\n",
    "    \n",
    "        weather_url = f\"https://api.open-meteo.com/v1/forecast\"\n",
    "        response = requests.get(weather_url, params=params)\n",
    "\n",
    "        if response.status_code == 200:\n",
    "            data=response.json()\n",
    "                \n",
    "            hourly_data = data['hourly']\n",
    "            timestamps = hourly_data['time']\n",
    "            temperature = hourly_data['temperature_2m']\n",
    "            humidity = hourly_data['relative_humidity_2m']\n",
    "                \n",
    "            for t,temp,hum in zip(timestamps,temperature,humidity):\n",
    "                weather_info={\n",
    "                    \"Location\":name,\n",
    "                    \"timestamp\":t,\n",
    "                    \"Temperature\":temp,\n",
    "                    \"Humidity\":hum\n",
    "                }\n",
    "                all_weather_data.append(weather_info)\n",
    "\n",
    "        else:\n",
    "            print(\"Failed to retrieve data. Status code: \",response.status_code)\n",
    "             \n",
    "    df=pd.DataFrame(all_weather_data)\n",
    "    \n",
    "    df.to_csv(\"weather_data.csv\",index=False)\n",
    "    print(\"All the weather data saved to 'weather_data.csv'\")\n",
    "    print(df.head())\n",
    "    \n",
    "\n",
    "\n",
    "weather_data()"
   ]
  },
  {
   "cell_type": "code",
   "execution_count": null,
   "id": "28b75c0f-0773-4bdd-bdc5-93a9646d0946",
   "metadata": {},
   "outputs": [],
   "source": []
  }
 ],
 "metadata": {
  "kernelspec": {
   "display_name": "Python [conda env:base] *",
   "language": "python",
   "name": "conda-base-py"
  },
  "language_info": {
   "codemirror_mode": {
    "name": "ipython",
    "version": 3
   },
   "file_extension": ".py",
   "mimetype": "text/x-python",
   "name": "python",
   "nbconvert_exporter": "python",
   "pygments_lexer": "ipython3",
   "version": "3.13.5"
  }
 },
 "nbformat": 4,
 "nbformat_minor": 5
}
